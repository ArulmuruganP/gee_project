{
 "cells": [
  {
   "cell_type": "markdown",
   "id": "09a858fb",
   "metadata": {},
   "source": [
    "Flood Hazard Visualization with GLOFAS (Python Version)"
   ]
  },
  {
   "cell_type": "code",
   "execution_count": 13,
   "id": "6092f44e",
   "metadata": {},
   "outputs": [
    {
     "data": {
      "text/html": [
       "\n",
       "            <style>\n",
       "                .geemap-dark {\n",
       "                    --jp-widgets-color: white;\n",
       "                    --jp-widgets-label-color: white;\n",
       "                    --jp-ui-font-color1: white;\n",
       "                    --jp-layout-color2: #454545;\n",
       "                    background-color: #383838;\n",
       "                }\n",
       "\n",
       "                .geemap-dark .jupyter-button {\n",
       "                    --jp-layout-color3: #383838;\n",
       "                }\n",
       "\n",
       "                .geemap-colab {\n",
       "                    background-color: var(--colab-primary-surface-color, white);\n",
       "                }\n",
       "\n",
       "                .geemap-colab .jupyter-button {\n",
       "                    --jp-layout-color3: var(--colab-primary-surface-color, white);\n",
       "                }\n",
       "            </style>\n",
       "            "
      ],
      "text/plain": [
       "<IPython.core.display.HTML object>"
      ]
     },
     "metadata": {},
     "output_type": "display_data"
    },
    {
     "name": "stdout",
     "output_type": "stream",
     "text": [
      "Requirement already satisfied: earthengine-api in c:\\arul\\vs code\\.venv\\lib\\site-packages (1.6.6)\n",
      "Requirement already satisfied: geemap in c:\\arul\\vs code\\.venv\\lib\\site-packages (0.36.2)\n",
      "Requirement already satisfied: matplotlib in c:\\arul\\vs code\\.venv\\lib\\site-packages (3.10.6)\n",
      "Requirement already satisfied: google-cloud-storage in c:\\arul\\vs code\\.venv\\lib\\site-packages (from earthengine-api) (3.3.1)\n",
      "Requirement already satisfied: google-api-python-client>=1.12.1 in c:\\arul\\vs code\\.venv\\lib\\site-packages (from earthengine-api) (2.181.0)\n",
      "Requirement already satisfied: google-auth>=1.4.1 in c:\\arul\\vs code\\.venv\\lib\\site-packages (from earthengine-api) (2.40.3)\n",
      "Requirement already satisfied: google-auth-httplib2>=0.0.3 in c:\\arul\\vs code\\.venv\\lib\\site-packages (from earthengine-api) (0.2.0)\n",
      "Requirement already satisfied: httplib2<1dev,>=0.9.2 in c:\\arul\\vs code\\.venv\\lib\\site-packages (from earthengine-api) (0.30.0)\n",
      "Requirement already satisfied: requests in c:\\arul\\vs code\\.venv\\lib\\site-packages (from earthengine-api) (2.32.4)\n",
      "Requirement already satisfied: pyparsing<4,>=3.0.4 in c:\\arul\\vs code\\.venv\\lib\\site-packages (from httplib2<1dev,>=0.9.2->earthengine-api) (3.2.3)\n",
      "Requirement already satisfied: anywidget in c:\\arul\\vs code\\.venv\\lib\\site-packages (from geemap) (0.9.18)\n",
      "Requirement already satisfied: bqplot in c:\\arul\\vs code\\.venv\\lib\\site-packages (from geemap) (0.12.45)\n",
      "Requirement already satisfied: eerepr>=0.1.0 in c:\\arul\\vs code\\.venv\\lib\\site-packages (from geemap) (0.1.2)\n",
      "Requirement already satisfied: folium>=0.17.0 in c:\\arul\\vs code\\.venv\\lib\\site-packages (from geemap) (0.20.0)\n",
      "Requirement already satisfied: geocoder in c:\\arul\\vs code\\.venv\\lib\\site-packages (from geemap) (1.38.1)\n",
      "Requirement already satisfied: ipyevents in c:\\arul\\vs code\\.venv\\lib\\site-packages (from geemap) (2.0.2)\n",
      "Requirement already satisfied: ipyfilechooser>=0.6.0 in c:\\arul\\vs code\\.venv\\lib\\site-packages (from geemap) (0.6.0)\n",
      "Requirement already satisfied: ipyleaflet>=0.19.2 in c:\\arul\\vs code\\.venv\\lib\\site-packages (from geemap) (0.20.0)\n",
      "Requirement already satisfied: ipytree in c:\\arul\\vs code\\.venv\\lib\\site-packages (from geemap) (0.2.2)\n",
      "Requirement already satisfied: numpy in c:\\arul\\vs code\\.venv\\lib\\site-packages (from geemap) (2.1.3)\n",
      "Requirement already satisfied: pandas in c:\\arul\\vs code\\.venv\\lib\\site-packages (from geemap) (2.3.1)\n",
      "Requirement already satisfied: plotly in c:\\arul\\vs code\\.venv\\lib\\site-packages (from geemap) (6.2.0)\n",
      "Requirement already satisfied: pyperclip in c:\\arul\\vs code\\.venv\\lib\\site-packages (from geemap) (1.9.0)\n",
      "Requirement already satisfied: pyshp>=2.3.1 in c:\\arul\\vs code\\.venv\\lib\\site-packages (from geemap) (2.3.1)\n",
      "Requirement already satisfied: python-box in c:\\arul\\vs code\\.venv\\lib\\site-packages (from geemap) (7.3.2)\n",
      "Requirement already satisfied: scooby in c:\\arul\\vs code\\.venv\\lib\\site-packages (from geemap) (0.10.1)\n",
      "Requirement already satisfied: contourpy>=1.0.1 in c:\\arul\\vs code\\.venv\\lib\\site-packages (from matplotlib) (1.3.3)\n",
      "Requirement already satisfied: cycler>=0.10 in c:\\arul\\vs code\\.venv\\lib\\site-packages (from matplotlib) (0.12.1)\n",
      "Requirement already satisfied: fonttools>=4.22.0 in c:\\arul\\vs code\\.venv\\lib\\site-packages (from matplotlib) (4.59.2)\n",
      "Requirement already satisfied: kiwisolver>=1.3.1 in c:\\arul\\vs code\\.venv\\lib\\site-packages (from matplotlib) (1.4.9)\n",
      "Requirement already satisfied: packaging>=20.0 in c:\\arul\\vs code\\.venv\\lib\\site-packages (from matplotlib) (25.0)\n",
      "Requirement already satisfied: pillow>=8 in c:\\arul\\vs code\\.venv\\lib\\site-packages (from matplotlib) (11.2.1)\n",
      "Requirement already satisfied: python-dateutil>=2.7 in c:\\arul\\vs code\\.venv\\lib\\site-packages (from matplotlib) (2.9.0.post0)\n",
      "Requirement already satisfied: branca>=0.6.0 in c:\\arul\\vs code\\.venv\\lib\\site-packages (from folium>=0.17.0->geemap) (0.8.1)\n",
      "Requirement already satisfied: jinja2>=2.9 in c:\\arul\\vs code\\.venv\\lib\\site-packages (from folium>=0.17.0->geemap) (3.1.6)\n",
      "Requirement already satisfied: xyzservices in c:\\arul\\vs code\\.venv\\lib\\site-packages (from folium>=0.17.0->geemap) (2025.4.0)\n",
      "Requirement already satisfied: google-api-core!=2.0.*,!=2.1.*,!=2.2.*,!=2.3.0,<3.0.0,>=1.31.5 in c:\\arul\\vs code\\.venv\\lib\\site-packages (from google-api-python-client>=1.12.1->earthengine-api) (2.25.1)\n",
      "Requirement already satisfied: uritemplate<5,>=3.0.1 in c:\\arul\\vs code\\.venv\\lib\\site-packages (from google-api-python-client>=1.12.1->earthengine-api) (4.2.0)\n",
      "Requirement already satisfied: googleapis-common-protos<2.0.0,>=1.56.2 in c:\\arul\\vs code\\.venv\\lib\\site-packages (from google-api-core!=2.0.*,!=2.1.*,!=2.2.*,!=2.3.0,<3.0.0,>=1.31.5->google-api-python-client>=1.12.1->earthengine-api) (1.70.0)\n",
      "Requirement already satisfied: protobuf!=3.20.0,!=3.20.1,!=4.21.0,!=4.21.1,!=4.21.2,!=4.21.3,!=4.21.4,!=4.21.5,<7.0.0,>=3.19.5 in c:\\arul\\vs code\\.venv\\lib\\site-packages (from google-api-core!=2.0.*,!=2.1.*,!=2.2.*,!=2.3.0,<3.0.0,>=1.31.5->google-api-python-client>=1.12.1->earthengine-api) (5.29.5)\n",
      "Requirement already satisfied: proto-plus<2.0.0,>=1.22.3 in c:\\arul\\vs code\\.venv\\lib\\site-packages (from google-api-core!=2.0.*,!=2.1.*,!=2.2.*,!=2.3.0,<3.0.0,>=1.31.5->google-api-python-client>=1.12.1->earthengine-api) (1.26.1)\n",
      "Requirement already satisfied: cachetools<6.0,>=2.0.0 in c:\\arul\\vs code\\.venv\\lib\\site-packages (from google-auth>=1.4.1->earthengine-api) (5.5.2)\n",
      "Requirement already satisfied: pyasn1-modules>=0.2.1 in c:\\arul\\vs code\\.venv\\lib\\site-packages (from google-auth>=1.4.1->earthengine-api) (0.4.2)\n",
      "Requirement already satisfied: rsa<5,>=3.1.4 in c:\\arul\\vs code\\.venv\\lib\\site-packages (from google-auth>=1.4.1->earthengine-api) (4.9.1)\n",
      "Requirement already satisfied: charset_normalizer<4,>=2 in c:\\arul\\vs code\\.venv\\lib\\site-packages (from requests->earthengine-api) (3.4.2)\n",
      "Requirement already satisfied: idna<4,>=2.5 in c:\\arul\\vs code\\.venv\\lib\\site-packages (from requests->earthengine-api) (3.10)\n",
      "Requirement already satisfied: urllib3<3,>=1.21.1 in c:\\arul\\vs code\\.venv\\lib\\site-packages (from requests->earthengine-api) (2.4.0)\n",
      "Requirement already satisfied: certifi>=2017.4.17 in c:\\arul\\vs code\\.venv\\lib\\site-packages (from requests->earthengine-api) (2025.8.3)\n",
      "Requirement already satisfied: pyasn1>=0.1.3 in c:\\arul\\vs code\\.venv\\lib\\site-packages (from rsa<5,>=3.1.4->google-auth>=1.4.1->earthengine-api) (0.6.1)\n",
      "Requirement already satisfied: ipywidgets in c:\\arul\\vs code\\.venv\\lib\\site-packages (from ipyfilechooser>=0.6.0->geemap) (8.1.7)\n",
      "Requirement already satisfied: jupyter-leaflet<0.21,>=0.20 in c:\\arul\\vs code\\.venv\\lib\\site-packages (from ipyleaflet>=0.19.2->geemap) (0.20.0)\n",
      "Requirement already satisfied: traittypes<3,>=0.2.1 in c:\\arul\\vs code\\.venv\\lib\\site-packages (from ipyleaflet>=0.19.2->geemap) (0.2.1)\n",
      "Requirement already satisfied: comm>=0.1.3 in c:\\arul\\vs code\\.venv\\lib\\site-packages (from ipywidgets->ipyfilechooser>=0.6.0->geemap) (0.2.2)\n",
      "Requirement already satisfied: ipython>=6.1.0 in c:\\arul\\vs code\\.venv\\lib\\site-packages (from ipywidgets->ipyfilechooser>=0.6.0->geemap) (9.3.0)\n",
      "Requirement already satisfied: traitlets>=4.3.1 in c:\\arul\\vs code\\.venv\\lib\\site-packages (from ipywidgets->ipyfilechooser>=0.6.0->geemap) (5.14.3)\n",
      "Requirement already satisfied: widgetsnbextension~=4.0.14 in c:\\arul\\vs code\\.venv\\lib\\site-packages (from ipywidgets->ipyfilechooser>=0.6.0->geemap) (4.0.14)\n",
      "Requirement already satisfied: jupyterlab_widgets~=3.0.15 in c:\\arul\\vs code\\.venv\\lib\\site-packages (from ipywidgets->ipyfilechooser>=0.6.0->geemap) (3.0.15)\n",
      "Requirement already satisfied: colorama in c:\\arul\\vs code\\.venv\\lib\\site-packages (from ipython>=6.1.0->ipywidgets->ipyfilechooser>=0.6.0->geemap) (0.4.6)\n",
      "Requirement already satisfied: decorator in c:\\arul\\vs code\\.venv\\lib\\site-packages (from ipython>=6.1.0->ipywidgets->ipyfilechooser>=0.6.0->geemap) (5.2.1)\n",
      "Requirement already satisfied: ipython-pygments-lexers in c:\\arul\\vs code\\.venv\\lib\\site-packages (from ipython>=6.1.0->ipywidgets->ipyfilechooser>=0.6.0->geemap) (1.1.1)\n",
      "Requirement already satisfied: jedi>=0.16 in c:\\arul\\vs code\\.venv\\lib\\site-packages (from ipython>=6.1.0->ipywidgets->ipyfilechooser>=0.6.0->geemap) (0.19.2)\n",
      "Requirement already satisfied: matplotlib-inline in c:\\arul\\vs code\\.venv\\lib\\site-packages (from ipython>=6.1.0->ipywidgets->ipyfilechooser>=0.6.0->geemap) (0.1.7)\n",
      "Requirement already satisfied: prompt_toolkit<3.1.0,>=3.0.41 in c:\\arul\\vs code\\.venv\\lib\\site-packages (from ipython>=6.1.0->ipywidgets->ipyfilechooser>=0.6.0->geemap) (3.0.51)\n",
      "Requirement already satisfied: pygments>=2.4.0 in c:\\arul\\vs code\\.venv\\lib\\site-packages (from ipython>=6.1.0->ipywidgets->ipyfilechooser>=0.6.0->geemap) (2.19.1)\n",
      "Requirement already satisfied: stack_data in c:\\arul\\vs code\\.venv\\lib\\site-packages (from ipython>=6.1.0->ipywidgets->ipyfilechooser>=0.6.0->geemap) (0.6.3)\n",
      "Requirement already satisfied: wcwidth in c:\\arul\\vs code\\.venv\\lib\\site-packages (from prompt_toolkit<3.1.0,>=3.0.41->ipython>=6.1.0->ipywidgets->ipyfilechooser>=0.6.0->geemap) (0.2.13)\n",
      "Requirement already satisfied: parso<0.9.0,>=0.8.4 in c:\\arul\\vs code\\.venv\\lib\\site-packages (from jedi>=0.16->ipython>=6.1.0->ipywidgets->ipyfilechooser>=0.6.0->geemap) (0.8.4)\n",
      "Requirement already satisfied: MarkupSafe>=2.0 in c:\\arul\\vs code\\.venv\\lib\\site-packages (from jinja2>=2.9->folium>=0.17.0->geemap) (3.0.2)\n",
      "Requirement already satisfied: six>=1.5 in c:\\arul\\vs code\\.venv\\lib\\site-packages (from python-dateutil>=2.7->matplotlib) (1.17.0)\n",
      "Requirement already satisfied: psygnal>=0.8.1 in c:\\arul\\vs code\\.venv\\lib\\site-packages (from anywidget->geemap) (0.14.1)\n",
      "Requirement already satisfied: typing-extensions>=4.2.0 in c:\\arul\\vs code\\.venv\\lib\\site-packages (from anywidget->geemap) (4.14.0)\n",
      "Requirement already satisfied: pytz>=2020.1 in c:\\arul\\vs code\\.venv\\lib\\site-packages (from pandas->geemap) (2025.2)\n",
      "Requirement already satisfied: tzdata>=2022.7 in c:\\arul\\vs code\\.venv\\lib\\site-packages (from pandas->geemap) (2025.2)\n",
      "Requirement already satisfied: click in c:\\arul\\vs code\\.venv\\lib\\site-packages (from geocoder->geemap) (8.2.2)\n",
      "Requirement already satisfied: future in c:\\arul\\vs code\\.venv\\lib\\site-packages (from geocoder->geemap) (1.0.0)\n",
      "Requirement already satisfied: ratelim in c:\\arul\\vs code\\.venv\\lib\\site-packages (from geocoder->geemap) (0.1.6)\n",
      "Requirement already satisfied: google-cloud-core<3.0.0,>=2.4.2 in c:\\arul\\vs code\\.venv\\lib\\site-packages (from google-cloud-storage->earthengine-api) (2.4.3)\n",
      "Requirement already satisfied: google-resumable-media<3.0.0,>=2.7.2 in c:\\arul\\vs code\\.venv\\lib\\site-packages (from google-cloud-storage->earthengine-api) (2.7.2)\n",
      "Requirement already satisfied: google-crc32c<2.0.0,>=1.1.3 in c:\\arul\\vs code\\.venv\\lib\\site-packages (from google-cloud-storage->earthengine-api) (1.7.1)\n",
      "Requirement already satisfied: narwhals>=1.15.1 in c:\\arul\\vs code\\.venv\\lib\\site-packages (from plotly->geemap) (2.0.1)\n",
      "Requirement already satisfied: executing>=1.2.0 in c:\\arul\\vs code\\.venv\\lib\\site-packages (from stack_data->ipython>=6.1.0->ipywidgets->ipyfilechooser>=0.6.0->geemap) (2.2.0)\n",
      "Requirement already satisfied: asttokens>=2.1.0 in c:\\arul\\vs code\\.venv\\lib\\site-packages (from stack_data->ipython>=6.1.0->ipywidgets->ipyfilechooser>=0.6.0->geemap) (3.0.0)\n",
      "Requirement already satisfied: pure-eval in c:\\arul\\vs code\\.venv\\lib\\site-packages (from stack_data->ipython>=6.1.0->ipywidgets->ipyfilechooser>=0.6.0->geemap) (0.2.3)\n",
      "Note: you may need to restart the kernel to use updated packages.\n",
      "Available return periods: [100, 10, 200, 20, 500, 50, 75, 100, 10, 200, 20, 500, 50, 75]\n"
     ]
    },
    {
     "data": {
      "application/vnd.jupyter.widget-view+json": {
       "model_id": "5b790aec20b749958273ef1b8a55618a",
       "version_major": 2,
       "version_minor": 0
      },
      "text/plain": [
       "Map(center=[29.5, 53.3], controls=(WidgetControl(options=['position', 'transparent_bg'], position='topright', …"
      ]
     },
     "execution_count": 13,
     "metadata": {},
     "output_type": "execute_result"
    }
   ],
   "source": [
    "# 📦 Install required packages (run once per environment)\n",
    "%pip install earthengine-api geemap matplotlib\n",
    "\n",
    "# 📚 Import libraries\n",
    "import ee\n",
    "import geemap\n",
    "import matplotlib.pyplot as plt\n",
    "\n",
    "# 🔐 Authenticate and initialize Earth Engine\n",
    "ee.Authenticate()\n",
    "ee.Initialize()\n",
    "\n",
    "# 📍 Define polygon geometry (Iran region)\n",
    "coords = [\n",
    "    [52.3061190642205, 28.827145835706336], \n",
    "    [54.3825350798455, 28.827145835706336], \n",
    "    [54.3825350798455, 30.227545129963662], \n",
    "    [52.3061190642205, 30.227545129963662], \n",
    "    [52.3061190642205, 28.827145835706336]\n",
    "]\n",
    "geometry = ee.Geometry.Polygon([coords])\n",
    "\n",
    "# 🌐 Load JRC GLOFAS flood hazard dataset\n",
    "jrc = ee.ImageCollection(\"JRC/CEMS_GLOFAS/FloodHazard/v1\").filterBounds(geometry)\n",
    "\n",
    "# 🔎 Display available return periods\n",
    "print(\"Available return periods:\", jrc.aggregate_array('return_period').getInfo())\n",
    "\n",
    "# 🧱 Helper function to get flood image for a return period\n",
    "def get_flood_image(return_period):\n",
    "    return jrc.filter(ee.Filter.eq('return_period', return_period)).mosaic().clip(geometry)\n",
    "\n",
    "# 💧 Get flood hazard images\n",
    "flood_10 = get_flood_image(10)\n",
    "flood_20 = get_flood_image(20)\n",
    "flood_100 = get_flood_image(100)\n",
    "\n",
    "# 🗺️ Create interactive map\n",
    "Map = geemap.Map(center=[29.5, 53.3], zoom=7)\n",
    "palette = ['skyblue', 'blue', 'darkblue']\n",
    "\n",
    "Map.addLayer(flood_10, {'palette': palette}, 'Flood RP10', False)\n",
    "Map.addLayer(flood_20, {'palette': palette}, 'Flood RP20', False)\n",
    "Map.addLayer(flood_100, {'palette': palette}, 'Flood RP100', False)\n",
    "\n",
    "Map\n"
   ]
  },
  {
   "cell_type": "markdown",
   "id": "4d333d45",
   "metadata": {},
   "source": [
    "Histogram Visualization (Matplotlib)"
   ]
  },
  {
   "cell_type": "code",
   "execution_count": 12,
   "id": "bb1a1821",
   "metadata": {},
   "outputs": [
    {
     "data": {
      "text/html": [
       "\n",
       "            <style>\n",
       "                .geemap-dark {\n",
       "                    --jp-widgets-color: white;\n",
       "                    --jp-widgets-label-color: white;\n",
       "                    --jp-ui-font-color1: white;\n",
       "                    --jp-layout-color2: #454545;\n",
       "                    background-color: #383838;\n",
       "                }\n",
       "\n",
       "                .geemap-dark .jupyter-button {\n",
       "                    --jp-layout-color3: #383838;\n",
       "                }\n",
       "\n",
       "                .geemap-colab {\n",
       "                    background-color: var(--colab-primary-surface-color, white);\n",
       "                }\n",
       "\n",
       "                .geemap-colab .jupyter-button {\n",
       "                    --jp-layout-color3: var(--colab-primary-surface-color, white);\n",
       "                }\n",
       "            </style>\n",
       "            "
      ],
      "text/plain": [
       "<IPython.core.display.HTML object>"
      ]
     },
     "metadata": {},
     "output_type": "display_data"
    },
    {
     "data": {
      "image/png": "[encoded data removed]",
      "text/plain": [
       "<Figure size 1000x600 with 1 Axes>"
      ]
     },
     "metadata": {},
     "output_type": "display_data"
    }
   ],
   "source": [
    "# 📦 Required imports\n",
    "import ee\n",
    "import geemap\n",
    "import matplotlib.pyplot as plt\n",
    "\n",
    "# 🔐 Authenticate and initialize Earth Engine\n",
    "ee.Authenticate()\n",
    "ee.Initialize()\n",
    "\n",
    "# 📍 Define geometry\n",
    "coords = [\n",
    "    [52.3061190642205, 28.827145835706336], \n",
    "    [54.3825350798455, 28.827145835706336], \n",
    "    [54.3825350798455, 30.227545129963662], \n",
    "    [52.3061190642205, 30.227545129963662], \n",
    "    [52.3061190642205, 28.827145835706336]\n",
    "]\n",
    "geometry = ee.Geometry.Polygon([coords])\n",
    "\n",
    "# 🌐 Load flood hazard image for return period 10\n",
    "jrc = ee.ImageCollection(\"JRC/CEMS_GLOFAS/FloodHazard/v1\").filterBounds(geometry)\n",
    "flood_10 = jrc.filter(ee.Filter.eq('return_period', 10)).mosaic().clip(geometry)\n",
    "\n",
    "# 📊 Compute histogram using reducer\n",
    "histogram = flood_10.reduceRegion(\n",
    "    reducer=ee.Reducer.histogram(maxBuckets=20),\n",
    "    geometry=geometry,\n",
    "    scale=1000,\n",
    "    maxPixels=1e13\n",
    ")\n",
    "\n",
    "# 🧮 Extract histogram data\n",
    "hist_data = histogram.getInfo()\n",
    "band_name = list(hist_data.keys())[0]  # Usually 'b1' or similar\n",
    "hist = hist_data[band_name]\n",
    "\n",
    "# 🎨 Plot histogram\n",
    "plt.figure(figsize=(10, 6))\n",
    "plt.bar(hist['bucketMeans'], hist['histogram'], width=0.05, color='skyblue', edgecolor='black')\n",
    "plt.title('Flood Depth Histogram (Return Period 10)')\n",
    "plt.xlabel('Flood Depth')\n",
    "plt.ylabel('Pixel Count')\n",
    "plt.grid(True)\n",
    "plt.show()\n"
   ]
  }
 ],
 "metadata": {
  "kernelspec": {
   "display_name": ".venv",
   "language": "python",
   "name": "python3"
  },
  "language_info": {
   "codemirror_mode": {
    "name": "ipython",
    "version": 3
   },
   "file_extension": ".py",
   "mimetype": "text/x-python",
   "name": "python",
   "nbconvert_exporter": "python",
   "pygments_lexer": "ipython3",
   "version": "3.12.2"
  }
 },
 "nbformat": 4,
 "nbformat_minor": 5
}
